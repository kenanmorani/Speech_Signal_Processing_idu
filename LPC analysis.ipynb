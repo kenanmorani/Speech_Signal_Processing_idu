{
 "cells": [
  {
   "cell_type": "markdown",
   "metadata": {},
   "source": [
    "## LPC ANALYSIS"
   ]
  },
  {
   "cell_type": "code",
   "execution_count": 1,
   "metadata": {},
   "outputs": [],
   "source": [
    "#!/usr/bin/env python3\n",
    "# -*- coding: utf-8 -*-\n",
    "\"\"\"\n",
    "Created on Sun Jun  6 22:18:02 2021\n",
    "\n",
    "@author: kenan\n",
    "\"\"\"\n",
    "%matplotlib inline\n",
    "import matplotlib.pyplot as plt\n",
    "import numpy as np\n",
    "import scipy.signal as sp\n",
    "import IPython\n",
    "from scipy.io import wavfile\n",
    "import librosa"
   ]
  },
  {
   "cell_type": "markdown",
   "metadata": {},
   "source": [
    "Write a computer program to compute the LPC coefficients for a frame of speech. Note:\n",
    "You can use Durbin’s recursion"
   ]
  },
  {
   "cell_type": "code",
   "execution_count": 2,
   "metadata": {},
   "outputs": [],
   "source": [
    "############################## a. Computing LPC coeffecients for a frame of speech\n",
    "def bac(x, p):\n",
    "    # computing the biased autocorrelation for x up to lag p\n",
    "    L = len(x)\n",
    "    r = np.zeros(p+1)\n",
    "    for m in range(0, p+1):\n",
    "        for n in range(0, L-m):\n",
    "            r[m] += x[n] * x[n+m]\n",
    "        r[m] /= float(L)\n",
    "    return r\n",
    "\n",
    "\n",
    "def ld(r, p):\n",
    "    # Using the Levinson-Durbin algorithm\n",
    "    g = r[1] / r[0]\n",
    "    a = np.array([g])\n",
    "    v = (1. - g * g) * r[0];\n",
    "    for i in range(1, p):\n",
    "        g = (r[i+1] - np.dot(a, r[1:i+1])) / v\n",
    "        a = np.r_[ g,  a - g * a[i-1::-1] ]\n",
    "        v *= 1. - g*g\n",
    "    # Returning the coefficients of the filter\n",
    "    return np.r_[1, -a[::-1]]\n",
    "\n",
    "\n",
    "def lpc(x, p):\n",
    "    # Computing p LPC coefficients for a frame of speech\n",
    "    return ld(bac(x, p), p)"
   ]
  },
  {
   "cell_type": "markdown",
   "metadata": {},
   "source": [
    "Compute the LPC coefficients for a voiced frame of speech using your own code. Compute\n",
    "the LPC spectrum using the LPC coefficients and compare it with the DFT spectrum for the\n",
    "same frame."
   ]
  },
  {
   "cell_type": "code",
   "execution_count": 4,
   "metadata": {},
   "outputs": [],
   "source": [
    "############################# b. using the code to calculate coeffecients to a voice\n",
    "    \n",
    "# A function for plotting\n",
    "def plot_spec(x, Fs, max_freq=None, do_fft=True):\n",
    "    C = int(len(x) / 2)  # positive frequencies only\n",
    "    if max_freq:\n",
    "        C = int(C * max_freq / float(Fs) * 2) \n",
    "    X = np.abs(np.fft.fft(x)[0:C]) if do_fft else x[0:C]\n",
    "    N = Fs * np.arange(0, C) / len(x);\n",
    "    plt.plot(N, X)\n",
    "    return N, X"
   ]
  },
  {
   "cell_type": "code",
   "execution_count": 5,
   "metadata": {},
   "outputs": [
    {
     "name": "stdout",
     "output_type": "stream",
     "text": [
      "Cloning into 'Speech_Signal_Processing_idu'...\n",
      "remote: Enumerating objects: 103, done.\u001b[K\n",
      "remote: Counting objects: 100% (103/103), done.\u001b[K\n",
      "remote: Compressing objects: 100% (99/99), done.\u001b[K\n",
      "remote: Total 103 (delta 42), reused 0 (delta 0), pack-reused 0\u001b[K\n",
      "Receiving objects: 100% (103/103), 2.53 MiB | 4.49 MiB/s, done.\n",
      "Resolving deltas: 100% (42/42), done.\n"
     ]
    }
   ],
   "source": [
    "!git clone https://github.com/kenanmorani/Speech_Signal_Processing_idu"
   ]
  },
  {
   "cell_type": "code",
   "execution_count": 8,
   "metadata": {},
   "outputs": [],
   "source": [
    "Fs_y, y = wavfile.read('./data/soundmale.wav')"
   ]
  },
  {
   "cell_type": "code",
   "execution_count": 10,
   "metadata": {},
   "outputs": [],
   "source": [
    "y = y / 32767.0 # cast to floats for 16bit sound file"
   ]
  },
  {
   "cell_type": "code",
   "execution_count": 11,
   "metadata": {},
   "outputs": [
    {
     "data": {
      "text/plain": [
       "array([-1.58334502e-08, -1.95589678e-08, -2.14217267e-08, ...,\n",
       "        2.79413826e-09,  1.86275884e-09, -3.72551768e-09])"
      ]
     },
     "execution_count": 11,
     "metadata": {},
     "output_type": "execute_result"
    }
   ],
   "source": [
    "y # The voice signal"
   ]
  },
  {
   "cell_type": "code",
   "execution_count": 12,
   "metadata": {},
   "outputs": [
    {
     "data": {
      "text/plain": [
       "22050"
      ]
     },
     "execution_count": 12,
     "metadata": {},
     "output_type": "execute_result"
    }
   ],
   "source": [
    "Fs_y # The sampling rate"
   ]
  },
  {
   "cell_type": "code",
   "execution_count": 13,
   "metadata": {},
   "outputs": [
    {
     "data": {
      "text/plain": [
       "(array([0.00000000e+00, 3.51103468e-01, 7.02206936e-01, ...,\n",
       "        1.10239467e+04, 1.10242978e+04, 1.10246489e+04]),\n",
       " array([1.22718552e-05, 5.57857591e-04, 1.17473692e-03, ...,\n",
       "        9.11306075e-07, 7.23391792e-07, 5.65681806e-07]))"
      ]
     },
     "execution_count": 13,
     "metadata": {},
     "output_type": "execute_result"
    },
    {
     "data": {
      "image/png": "[encoded data removed]",
      "text/plain": [
       "<Figure size 432x288 with 1 Axes>"
      ]
     },
     "metadata": {
      "needs_background": "light"
     },
     "output_type": "display_data"
    }
   ],
   "source": [
    "plot_spec(y, Fs_y) # Spectrum plot"
   ]
  },
  {
   "cell_type": "code",
   "execution_count": 14,
   "metadata": {},
   "outputs": [
    {
     "data": {
      "text/plain": [
       "array([ 1.        , -4.09689306,  7.91074887, -9.25598087,  7.43413447,\n",
       "       -5.24373529,  5.07557408, -6.22603158,  6.76073116, -6.2130573 ,\n",
       "        5.55991768, -5.3733616 ,  5.20335114, -4.60062949,  3.82695645,\n",
       "       -3.25211723,  2.7797136 , -2.20358498,  1.60916578, -1.11343355,\n",
       "        0.6949916 , -0.32138501,  0.08324006])"
      ]
     },
     "execution_count": 14,
     "metadata": {},
     "output_type": "execute_result"
    }
   ],
   "source": [
    "# The order of the filter is 22, corresponding to a sampling rate of about 22kHz, \n",
    "# meaning about 11 formants are to be an intial expectation\n",
    "lpc(y, 22) # omputing LPC of the signal using the functions in 1"
   ]
  },
  {
   "cell_type": "code",
   "execution_count": 15,
   "metadata": {},
   "outputs": [
    {
     "data": {
      "text/plain": [
       "array([ 1.        , -4.0969337 ,  7.91095825, -9.25651305,  7.43502812,\n",
       "       -5.24488063,  5.07684691, -6.22741577,  6.76228481, -6.21479692,\n",
       "        5.56178693, -5.3753061 ,  5.20536071, -4.60268144,  3.82897294,\n",
       "       -3.25403248,  2.78155357, -2.20540415,  1.61088708, -1.11481609,\n",
       "        0.69582967, -0.32171913,  0.08330591])"
      ]
     },
     "execution_count": 15,
     "metadata": {},
     "output_type": "execute_result"
    }
   ],
   "source": [
    "librosa.lpc(y, 22) # omputing LPC of the signal using librosa library"
   ]
  },
  {
   "cell_type": "code",
   "execution_count": null,
   "metadata": {},
   "outputs": [],
   "source": []
  },
  {
   "cell_type": "code",
   "execution_count": 17,
   "metadata": {},
   "outputs": [
    {
     "data": {
      "text/plain": [
       "(array([   0.        ,  958.69565217, 1917.39130435, 2876.08695652,\n",
       "        3834.7826087 , 4793.47826087, 5752.17391304, 6710.86956522,\n",
       "        7669.56521739, 8628.26086957, 9586.95652174]),\n",
       " array([ 1.        , -4.09689306,  7.91074887, -9.25598087,  7.43413447,\n",
       "        -5.24373529,  5.07557408, -6.22603158,  6.76073116, -6.2130573 ,\n",
       "         5.55991768]))"
      ]
     },
     "execution_count": 17,
     "metadata": {},
     "output_type": "execute_result"
    },
    {
     "data": {
      "image/png": "[encoded data removed]",
      "text/plain": [
       "<Figure size 432x288 with 1 Axes>"
      ]
     },
     "metadata": {
      "needs_background": "light"
     },
     "output_type": "display_data"
    }
   ],
   "source": [
    "plot_spec(lpc(y,22), Fs_y, do_fft=False) # Computing and plotting LPC spectrum using LPC Coeffecients no fft"
   ]
  },
  {
   "cell_type": "code",
   "execution_count": 19,
   "metadata": {},
   "outputs": [
    {
     "data": {
      "text/plain": [
       "array([-1.22718552e-05-2.84603070e-19j, -3.82508921e-04+4.06068981e-04j,\n",
       "       -6.93702871e-04-9.48041752e-04j, ...,\n",
       "        5.37872278e-04-3.16276245e-05j, -6.93702871e-04+9.48041752e-04j,\n",
       "       -3.82508921e-04-4.06068981e-04j])"
      ]
     },
     "execution_count": 19,
     "metadata": {},
     "output_type": "execute_result"
    }
   ],
   "source": [
    "# The DFT is often computed using the FFT algorithm, a name informally used to refer to the DFT itself. \n",
    "# The DFT tells us which frequencies or “notes” to expect in our signal.\n",
    "# Calculating FFT \n",
    "spectrum = np.fft.fft(y) \n",
    "spectrum "
   ]
  },
  {
   "cell_type": "code",
   "execution_count": 20,
   "metadata": {},
   "outputs": [
    {
     "data": {
      "text/plain": [
       "(array([0.00000000e+00, 3.51103468e-01, 7.02206936e-01, ...,\n",
       "        1.10239467e+04, 1.10242978e+04, 1.10246489e+04]),\n",
       " array([1.22718552e-05, 5.57857591e-04, 1.17473692e-03, ...,\n",
       "        9.11306075e-07, 7.23391792e-07, 5.65681806e-07]))"
      ]
     },
     "execution_count": 20,
     "metadata": {},
     "output_type": "execute_result"
    },
    {
     "data": {
      "image/png": "[encoded data removed]",
      "text/plain": [
       "<Figure size 432x288 with 1 Axes>"
      ]
     },
     "metadata": {
      "needs_background": "light"
     },
     "output_type": "display_data"
    }
   ],
   "source": [
    "plot_spec(y, Fs_y, do_fft=True) # Plotting the signal with fft"
   ]
  },
  {
   "cell_type": "code",
   "execution_count": 21,
   "metadata": {},
   "outputs": [
    {
     "data": {
      "text/plain": [
       "(array([0.00000000e+00, 3.51103468e-01, 7.02206936e-01, ...,\n",
       "        1.10239467e+04, 1.10242978e+04, 1.10246489e+04]),\n",
       " array([2.60994758e+01, 2.60994907e+01, 2.60995353e+01, ...,\n",
       "        1.04342061e-02, 1.04341997e-02, 1.04341958e-02]))"
      ]
     },
     "execution_count": 21,
     "metadata": {},
     "output_type": "execute_result"
    },
    {
     "data": {
      "image/png": "[encoded data removed]",
      "text/plain": [
       "<Figure size 432x288 with 1 Axes>"
      ]
     },
     "metadata": {
      "needs_background": "light"
     },
     "output_type": "display_data"
    }
   ],
   "source": [
    "# Taking fft and then LPC on the frames\n",
    "A = np.fft.fft(lpc(y, 22), len(y))\n",
    "plot_spec(np.abs(np.divide(1.0, A)), Fs_y, do_fft=False)"
   ]
  }
 ],
 "metadata": {
  "kernelspec": {
   "display_name": "Python 3",
   "language": "python",
   "name": "python3"
  },
  "language_info": {
   "codemirror_mode": {
    "name": "ipython",
    "version": 3
   },
   "file_extension": ".py",
   "mimetype": "text/x-python",
   "name": "python",
   "nbconvert_exporter": "python",
   "pygments_lexer": "ipython3",
   "version": "3.8.5"
  }
 },
 "nbformat": 4,
 "nbformat_minor": 4
}
